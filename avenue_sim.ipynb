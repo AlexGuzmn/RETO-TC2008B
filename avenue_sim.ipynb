{
 "cells": [
  {
   "cell_type": "code",
   "execution_count": 108,
   "metadata": {},
   "outputs": [],
   "source": [
    "# Model design\n",
    "import agentpy as ap\n",
    "import numpy as np\n",
    "\n",
    "\n",
    "# Visualization\n",
    "import matplotlib.pyplot as plt\n",
    "import IPython"
   ]
  },
  {
   "cell_type": "code",
   "execution_count": 109,
   "metadata": {},
   "outputs": [],
   "source": [
    "def normalize(v):\n",
    "    norm = np.linalg.norm(v)\n",
    "    if norm == 0:\n",
    "        return v\n",
    "    return v / norm"
   ]
  },
  {
   "cell_type": "code",
   "execution_count": 110,
   "metadata": {},
   "outputs": [],
   "source": [
    "class Car(ap.Agent):\n",
    "    def setup(self):\n",
    "        self.direction = np.array([0, 0])  # x | y\n",
    "        self.velocity = 0.0  # float\n",
    "        self.max_velocity = 10.0\n",
    "        self.my_traffic_lights = []\n",
    "\n",
    "    def put_traffic_lights(self):\n",
    "        for i in range(len(self.model.traffic_lights)):\n",
    "            if (self.model.traffic_lights[i].direction == self.direction):\n",
    "                self.my_traffic_lights.push(self.model.traffic_lights[i])\n",
    "        print(self.my_traffic_lights)\n",
    "\n",
    "    def update_position(self):\n",
    "        self.model.avenue.move_by(self, np.multiply(self.direction, self.velocity))\n",
    "\n",
    "    def update_velocity(self):\n",
    "        for traffic_light in self.my_traffic_lights:\n",
    "            distance = abs(self.model.avenue.positions(traffic_light)[1] - self.model.avenue.positions(self)[1])\n",
    "            if(distance < 50 and traffic_light.state == 0):\n",
    "                self.velocity = 0.0\n",
    "            else:\n",
    "                self.velocity = self.max_velocity\n",
    "\n",
    "\n"
   ]
  },
  {
   "cell_type": "code",
   "execution_count": 111,
   "metadata": {},
   "outputs": [],
   "source": [
    "class Traffic_Light(ap.Agent):\n",
    "    def setup(self):\n",
    "        self.direction = np.array([0, 0])  # x | y\n",
    "        self.state = 0  # 0: green | 1: yellow | 2: red\n",
    "        self.green_duration = 0\n",
    "        self.yellow_duration = 0\n",
    "        self.red_duration = 0\n",
    "\n",
    "    def update_state(self, t):\n",
    "        if t < self.green_duration:\n",
    "            self.state = 0\n",
    "        elif t < self.green_duration + self.yellow_duration:\n",
    "            self.state = 1\n",
    "        else:\n",
    "            self.state = 2"
   ]
  },
  {
   "cell_type": "code",
   "execution_count": 112,
   "metadata": {},
   "outputs": [],
   "source": [
    "class Model(ap.Model):\n",
    "    def setup(self):\n",
    "        # Init Space\n",
    "        self.avenue = ap.Space(self, shape=(self.p.size, self.p.size), torus=True)\n",
    "\n",
    "        # Init Agents\n",
    "        self.cars = ap.AgentList(self, self.p.population, Car)\n",
    "        self.traffic_lights = ap.AgentList(self, 2, Traffic_Light)\n",
    "\n",
    "        # Set traffic lights duration on each state\n",
    "        self.traffic_lights.green_duration = self.p.green_duration\n",
    "        self.traffic_lights.yellow_duration = self.p.yellow_duration\n",
    "        self.traffic_lights.red_duration = self.p.red_duration\n",
    "\n",
    "        # This variable is used to change the traffic lights state\n",
    "        self.traffic_lights_max_cycle = self.p.green_duration + self.p.yellow_duration + self.p.red_duration\n",
    "\n",
    "\n",
    "        # Add agent to model\n",
    "        self.avenue.add_agents(self.traffic_lights)\n",
    "        self.avenue.add_agents(self.cars)\n",
    "\n",
    "        traffic_lights_x_offset = 30\n",
    "        traffic_lights_y_offset = 60\n",
    "\n",
    "        ## Set position of Traffic_Light\n",
    "        self.avenue.move_to(self.traffic_lights[0],\n",
    "                            [self.p.size * 0.5 - traffic_lights_x_offset, self.p.size * 0.5 - traffic_lights_y_offset])\n",
    "        self.avenue.move_to(self.traffic_lights[1],\n",
    "                            [self.p.size * 0.5 + traffic_lights_x_offset, self.p.size * 0.5 + traffic_lights_y_offset])\n",
    "\n",
    "        ## Set Traffic_Light direction \n",
    "        self.traffic_lights[0].direction =  np.array([0, -1])\n",
    "        self.traffic_lights[1].direction =  np.array([0, 1])\n",
    "\n",
    "        ## Set position of Car\n",
    "        for i in range(len(self.cars)):\n",
    "            car = self.cars[i]\n",
    "            car.put_traffic_lights()\n",
    "            # Right\n",
    "            if (i % 2 == 0):\n",
    "                car.direction = np.array([0, 1])\n",
    "                self.avenue.move_by(car, [self.p.size * 0.5 + traffic_lights_x_offset, 0])\n",
    "            # Left\n",
    "            else:\n",
    "                car.direction = np.array([0, -1])\n",
    "                self.avenue.move_by(car, [self.p.size * 0.5 - traffic_lights_x_offset, self.p.size])\n",
    "                \n",
    "    def step(self):\n",
    "        traffic_lights_cycle_t = self.t % self.traffic_lights_max_cycle\n",
    "\n",
    "        self.cars.update_position()\n",
    "        self.traffic_lights.update_state(traffic_lights_cycle_t)"
   ]
  },
  {
   "cell_type": "code",
   "execution_count": 113,
   "metadata": {},
   "outputs": [],
   "source": [
    "def animation_plot_single(m, ax):\n",
    "    ax.set_title(f\"Avenue Simulation T:{m.t}\")\n",
    "    agents = m.avenue.positions.keys()\n",
    "    agents = np.array(list(agents)).T\n",
    "\n",
    "    for ag in agents:\n",
    "        pos = m.avenue.positions[ag]\n",
    "        pos = np.array(list(pos)).T\n",
    "\n",
    "        if ag.type == \"Car\":\n",
    "            ax.scatter(pos[0], pos[1], s=50, c='black') # Draw Car\n",
    "        elif ag.type == \"Traffic_Light\":\n",
    "            if ag.state == 0:\n",
    "                color = 'green'\n",
    "            elif ag.state == 1:\n",
    "                color = 'yellow'\n",
    "            else:\n",
    "                color = 'red'\n",
    "\n",
    "            ax.scatter(pos[0], pos[1], s=100, c=color) # Draw Traffic Light\n",
    "\n",
    "    ax.set_xlim(0, m.p.size)\n",
    "    ax.set_ylim(0, m.p.size)\n",
    "    ax.set_axis_off()"
   ]
  },
  {
   "cell_type": "code",
   "execution_count": 114,
   "metadata": {},
   "outputs": [],
   "source": [
    "def animation_plot(m, p):\n",
    "    fig, ax = plt.subplots()\n",
    "    animation = ap.animate(m(p), fig, ax, animation_plot_single)\n",
    "    return IPython.display.HTML(animation.to_jshtml(fps=20))"
   ]
  },
  {
   "cell_type": "code",
   "execution_count": 115,
   "metadata": {},
   "outputs": [
    {
     "ename": "ValueError",
     "evalue": "The truth value of an array with more than one element is ambiguous. Use a.any() or a.all()",
     "output_type": "error",
     "traceback": [
      "\u001b[1;31m---------------------------------------------------------------------------\u001b[0m",
      "\u001b[1;31mValueError\u001b[0m                                Traceback (most recent call last)",
      "Cell \u001b[1;32mIn [115], line 11\u001b[0m\n\u001b[0;32m      1\u001b[0m parameters \u001b[39m=\u001b[39m {\n\u001b[0;32m      2\u001b[0m     \u001b[39m\"\u001b[39m\u001b[39msize\u001b[39m\u001b[39m\"\u001b[39m: \u001b[39m1000\u001b[39m,\n\u001b[0;32m      3\u001b[0m     \u001b[39m\"\u001b[39m\u001b[39mseed\u001b[39m\u001b[39m\"\u001b[39m: \u001b[39m123\u001b[39m,\n\u001b[1;32m   (...)\u001b[0m\n\u001b[0;32m      8\u001b[0m     \u001b[39m\"\u001b[39m\u001b[39mred_duration\u001b[39m\u001b[39m\"\u001b[39m: \u001b[39m8\u001b[39m\n\u001b[0;32m      9\u001b[0m }\n\u001b[1;32m---> 11\u001b[0m animation_plot(Model, parameters)\n",
      "Cell \u001b[1;32mIn [114], line 3\u001b[0m, in \u001b[0;36manimation_plot\u001b[1;34m(m, p)\u001b[0m\n\u001b[0;32m      1\u001b[0m \u001b[39mdef\u001b[39;00m \u001b[39manimation_plot\u001b[39m(m, p):\n\u001b[0;32m      2\u001b[0m     fig, ax \u001b[39m=\u001b[39m plt\u001b[39m.\u001b[39msubplots()\n\u001b[1;32m----> 3\u001b[0m     animation \u001b[39m=\u001b[39m ap\u001b[39m.\u001b[39;49manimate(m(p), fig, ax, animation_plot_single)\n\u001b[0;32m      4\u001b[0m     \u001b[39mreturn\u001b[39;00m IPython\u001b[39m.\u001b[39mdisplay\u001b[39m.\u001b[39mHTML(animation\u001b[39m.\u001b[39mto_jshtml(fps\u001b[39m=\u001b[39m\u001b[39m20\u001b[39m))\n",
      "File \u001b[1;32m~\\AppData\\Local\\Packages\\PythonSoftwareFoundation.Python.3.10_qbz5n2kfra8p0\\LocalCache\\local-packages\\Python310\\site-packages\\agentpy\\visualization.py:59\u001b[0m, in \u001b[0;36manimate\u001b[1;34m(model, fig, axs, plot, steps, seed, skip, fargs, **kwargs)\u001b[0m\n\u001b[0;32m     17\u001b[0m \u001b[39mdef\u001b[39;00m \u001b[39manimate\u001b[39m(model, fig, axs, plot, steps\u001b[39m=\u001b[39m\u001b[39mNone\u001b[39;00m, seed\u001b[39m=\u001b[39m\u001b[39mNone\u001b[39;00m,\n\u001b[0;32m     18\u001b[0m             skip\u001b[39m=\u001b[39m\u001b[39m0\u001b[39m, fargs\u001b[39m=\u001b[39m(), \u001b[39m*\u001b[39m\u001b[39m*\u001b[39mkwargs):\n\u001b[0;32m     19\u001b[0m     \u001b[39m\"\"\" Returns an animation of the model simulation,\u001b[39;00m\n\u001b[0;32m     20\u001b[0m \u001b[39m    using :func:`matplotlib.animation.FuncAnimation`.\u001b[39;00m\n\u001b[0;32m     21\u001b[0m \n\u001b[1;32m   (...)\u001b[0m\n\u001b[0;32m     56\u001b[0m \u001b[39m            HTML(animation.to_jshtml())\u001b[39;00m\n\u001b[0;32m     57\u001b[0m \u001b[39m    \"\"\"\u001b[39;00m\n\u001b[1;32m---> 59\u001b[0m     model\u001b[39m.\u001b[39;49msim_setup(steps, seed)\n\u001b[0;32m     60\u001b[0m     model\u001b[39m.\u001b[39mcreate_output()\n\u001b[0;32m     61\u001b[0m     pre_steps \u001b[39m=\u001b[39m \u001b[39m0\u001b[39m\n",
      "File \u001b[1;32m~\\AppData\\Local\\Packages\\PythonSoftwareFoundation.Python.3.10_qbz5n2kfra8p0\\LocalCache\\local-packages\\Python310\\site-packages\\agentpy\\model.py:316\u001b[0m, in \u001b[0;36mModel.sim_setup\u001b[1;34m(self, steps, seed)\u001b[0m\n\u001b[0;32m    313\u001b[0m \u001b[39mself\u001b[39m\u001b[39m.\u001b[39m_partly_run \u001b[39m=\u001b[39m \u001b[39mTrue\u001b[39;00m\n\u001b[0;32m    315\u001b[0m \u001b[39m# Execute setup and first update\u001b[39;00m\n\u001b[1;32m--> 316\u001b[0m \u001b[39mself\u001b[39m\u001b[39m.\u001b[39msetup(\u001b[39m*\u001b[39m\u001b[39m*\u001b[39m\u001b[39mself\u001b[39m\u001b[39m.\u001b[39m_setup_kwargs)\n\u001b[0;32m    317\u001b[0m \u001b[39mself\u001b[39m\u001b[39m.\u001b[39mupdate()\n\u001b[0;32m    319\u001b[0m \u001b[39m# Stop simulation if t too high\u001b[39;00m\n",
      "Cell \u001b[1;32mIn [112], line 39\u001b[0m, in \u001b[0;36mModel.setup\u001b[1;34m(self)\u001b[0m\n\u001b[0;32m     37\u001b[0m \u001b[39mfor\u001b[39;00m i \u001b[39min\u001b[39;00m \u001b[39mrange\u001b[39m(\u001b[39mlen\u001b[39m(\u001b[39mself\u001b[39m\u001b[39m.\u001b[39mcars)):\n\u001b[0;32m     38\u001b[0m     car \u001b[39m=\u001b[39m \u001b[39mself\u001b[39m\u001b[39m.\u001b[39mcars[i]\n\u001b[1;32m---> 39\u001b[0m     car\u001b[39m.\u001b[39;49mput_traffic_lights()\n\u001b[0;32m     40\u001b[0m     \u001b[39m# Right\u001b[39;00m\n\u001b[0;32m     41\u001b[0m     \u001b[39mif\u001b[39;00m (i \u001b[39m%\u001b[39m \u001b[39m2\u001b[39m \u001b[39m==\u001b[39m \u001b[39m0\u001b[39m):\n",
      "Cell \u001b[1;32mIn [110], line 10\u001b[0m, in \u001b[0;36mCar.put_traffic_lights\u001b[1;34m(self)\u001b[0m\n\u001b[0;32m      8\u001b[0m \u001b[39mdef\u001b[39;00m \u001b[39mput_traffic_lights\u001b[39m(\u001b[39mself\u001b[39m):\n\u001b[0;32m      9\u001b[0m     \u001b[39mfor\u001b[39;00m i \u001b[39min\u001b[39;00m \u001b[39mrange\u001b[39m(\u001b[39mlen\u001b[39m(\u001b[39mself\u001b[39m\u001b[39m.\u001b[39mmodel\u001b[39m.\u001b[39mtraffic_lights)):\n\u001b[1;32m---> 10\u001b[0m         \u001b[39mif\u001b[39;00m (\u001b[39mself\u001b[39;49m\u001b[39m.\u001b[39;49mmodel\u001b[39m.\u001b[39;49mtraffic_lights[i]\u001b[39m.\u001b[39;49mdirection \u001b[39m==\u001b[39;49m \u001b[39mself\u001b[39;49m\u001b[39m.\u001b[39;49mdirection):\n\u001b[0;32m     11\u001b[0m             \u001b[39mself\u001b[39m\u001b[39m.\u001b[39mmy_traffic_lights\u001b[39m.\u001b[39mpush(\u001b[39mself\u001b[39m\u001b[39m.\u001b[39mmodel\u001b[39m.\u001b[39mtraffic_lights[i])\n",
      "\u001b[1;31mValueError\u001b[0m: The truth value of an array with more than one element is ambiguous. Use a.any() or a.all()"
     ]
    },
    {
     "data": {
      "image/png": "[encoded data removed]",
      "text/plain": [
       "<Figure size 640x480 with 1 Axes>"
      ]
     },
     "metadata": {},
     "output_type": "display_data"
    }
   ],
   "source": [
    "parameters = {\n",
    "    \"size\": 1000,\n",
    "    \"seed\": 123,\n",
    "    \"steps\": 50,\n",
    "    \"population\": 2,\n",
    "    \"green_duration\": 10,\n",
    "    \"yellow_duration\": 2,\n",
    "    \"red_duration\": 8\n",
    "}\n",
    "\n",
    "animation_plot(Model, parameters)"
   ]
  }
 ],
 "metadata": {
  "kernelspec": {
   "display_name": "Python 3.10.8 64-bit (microsoft store)",
   "language": "python",
   "name": "python3"
  },
  "language_info": {
   "codemirror_mode": {
    "name": "ipython",
    "version": 3
   },
   "file_extension": ".py",
   "mimetype": "text/x-python",
   "name": "python",
   "nbconvert_exporter": "python",
   "pygments_lexer": "ipython3",
   "version": "3.10.8"
  },
  "orig_nbformat": 4,
  "vscode": {
   "interpreter": {
    "hash": "3c8bb89b5e606bb24189a2b7642066ee4a34d93bd5bb3d07529cf22318044223"
   }
  }
 },
 "nbformat": 4,
 "nbformat_minor": 2
}
